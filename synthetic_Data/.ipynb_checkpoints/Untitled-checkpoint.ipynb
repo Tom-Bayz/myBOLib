{
 "cells": [
  {
   "cell_type": "code",
   "execution_count": 33,
   "metadata": {
    "collapsed": true
   },
   "outputs": [],
   "source": [
    "from __future__ import division\n",
    "import sys\n",
    "sys.path.append(\"../\")\n",
    "import numpy as np\n",
    "import scipy.spatial.distance as dist\n",
    "import yonezu_func as yz\n",
    "import random as rd\n",
    "import os \n",
    "import math\n",
    "import matplotlib.pyplot as plt\n",
    "from tqdm import tqdm\n",
    "import argparse\n",
    "import pickle\n",
    "import seaborn as sns"
   ]
  },
  {
   "cell_type": "code",
   "execution_count": 34,
   "metadata": {
    "collapsed": true
   },
   "outputs": [],
   "source": [
    "def f(x,t):\n",
    "    ans = np.cos(x-t/5) + x/5\n",
    "    return(ans)"
   ]
  },
  {
   "cell_type": "code",
   "execution_count": 35,
   "metadata": {},
   "outputs": [],
   "source": [
    "N = 100\n",
    "\n",
    "x = np.linspace(0,2*np.pi, N)\n",
    "t = np.array([2])\n",
    "cost = 20\n",
    "\n",
    "T = np.shape(t)[0]"
   ]
  },
  {
   "cell_type": "code",
   "execution_count": 36,
   "metadata": {},
   "outputs": [
    {
     "name": "stdout",
     "output_type": "stream",
     "text": [
      "[[ 0.          2.        ]\n",
      " [ 0.06346652  2.        ]\n",
      " [ 0.12693304  2.        ]\n",
      " [ 0.19039955  2.        ]\n",
      " [ 0.25386607  2.        ]\n",
      " [ 0.31733259  2.        ]\n",
      " [ 0.38079911  2.        ]\n",
      " [ 0.44426563  2.        ]\n",
      " [ 0.50773215  2.        ]\n",
      " [ 0.57119866  2.        ]\n",
      " [ 0.63466518  2.        ]\n",
      " [ 0.6981317   2.        ]\n",
      " [ 0.76159822  2.        ]\n",
      " [ 0.82506474  2.        ]\n",
      " [ 0.88853126  2.        ]\n",
      " [ 0.95199777  2.        ]\n",
      " [ 1.01546429  2.        ]\n",
      " [ 1.07893081  2.        ]\n",
      " [ 1.14239733  2.        ]\n",
      " [ 1.20586385  2.        ]\n",
      " [ 1.26933037  2.        ]\n",
      " [ 1.33279688  2.        ]\n",
      " [ 1.3962634   2.        ]\n",
      " [ 1.45972992  2.        ]\n",
      " [ 1.52319644  2.        ]\n",
      " [ 1.58666296  2.        ]\n",
      " [ 1.65012947  2.        ]\n",
      " [ 1.71359599  2.        ]\n",
      " [ 1.77706251  2.        ]\n",
      " [ 1.84052903  2.        ]\n",
      " [ 1.90399555  2.        ]\n",
      " [ 1.96746207  2.        ]\n",
      " [ 2.03092858  2.        ]\n",
      " [ 2.0943951   2.        ]\n",
      " [ 2.15786162  2.        ]\n",
      " [ 2.22132814  2.        ]\n",
      " [ 2.28479466  2.        ]\n",
      " [ 2.34826118  2.        ]\n",
      " [ 2.41172769  2.        ]\n",
      " [ 2.47519421  2.        ]\n",
      " [ 2.53866073  2.        ]\n",
      " [ 2.60212725  2.        ]\n",
      " [ 2.66559377  2.        ]\n",
      " [ 2.72906028  2.        ]\n",
      " [ 2.7925268   2.        ]\n",
      " [ 2.85599332  2.        ]\n",
      " [ 2.91945984  2.        ]\n",
      " [ 2.98292636  2.        ]\n",
      " [ 3.04639288  2.        ]\n",
      " [ 3.10985939  2.        ]\n",
      " [ 3.17332591  2.        ]\n",
      " [ 3.23679243  2.        ]\n",
      " [ 3.30025895  2.        ]\n",
      " [ 3.36372547  2.        ]\n",
      " [ 3.42719199  2.        ]\n",
      " [ 3.4906585   2.        ]\n",
      " [ 3.55412502  2.        ]\n",
      " [ 3.61759154  2.        ]\n",
      " [ 3.68105806  2.        ]\n",
      " [ 3.74452458  2.        ]\n",
      " [ 3.8079911   2.        ]\n",
      " [ 3.87145761  2.        ]\n",
      " [ 3.93492413  2.        ]\n",
      " [ 3.99839065  2.        ]\n",
      " [ 4.06185717  2.        ]\n",
      " [ 4.12532369  2.        ]\n",
      " [ 4.1887902   2.        ]\n",
      " [ 4.25225672  2.        ]\n",
      " [ 4.31572324  2.        ]\n",
      " [ 4.37918976  2.        ]\n",
      " [ 4.44265628  2.        ]\n",
      " [ 4.5061228   2.        ]\n",
      " [ 4.56958931  2.        ]\n",
      " [ 4.63305583  2.        ]\n",
      " [ 4.69652235  2.        ]\n",
      " [ 4.75998887  2.        ]\n",
      " [ 4.82345539  2.        ]\n",
      " [ 4.88692191  2.        ]\n",
      " [ 4.95038842  2.        ]\n",
      " [ 5.01385494  2.        ]\n",
      " [ 5.07732146  2.        ]\n",
      " [ 5.14078798  2.        ]\n",
      " [ 5.2042545   2.        ]\n",
      " [ 5.26772102  2.        ]\n",
      " [ 5.33118753  2.        ]\n",
      " [ 5.39465405  2.        ]\n",
      " [ 5.45812057  2.        ]\n",
      " [ 5.52158709  2.        ]\n",
      " [ 5.58505361  2.        ]\n",
      " [ 5.64852012  2.        ]\n",
      " [ 5.71198664  2.        ]\n",
      " [ 5.77545316  2.        ]\n",
      " [ 5.83891968  2.        ]\n",
      " [ 5.9023862   2.        ]\n",
      " [ 5.96585272  2.        ]\n",
      " [ 6.02931923  2.        ]\n",
      " [ 6.09278575  2.        ]\n",
      " [ 6.15625227  2.        ]\n",
      " [ 6.21971879  2.        ]\n",
      " [ 6.28318531  2.        ]]\n"
     ]
    }
   ],
   "source": [
    "X_tilde = np.c_[x,(np.repeat(t[:,np.newaxis],N))]\n",
    "\n",
    "print(X_tilde)"
   ]
  },
  {
   "cell_type": "code",
   "execution_count": 37,
   "metadata": {
    "collapsed": true
   },
   "outputs": [],
   "source": [
    "y = f(X_tilde[:,0],X_tilde[:,1])+0.52"
   ]
  },
  {
   "cell_type": "code",
   "execution_count": 38,
   "metadata": {},
   "outputs": [
    {
     "data": {
      "text/plain": [
       "[<matplotlib.lines.Line2D at 0x114df4110>]"
      ]
     },
     "execution_count": 38,
     "metadata": {},
     "output_type": "execute_result"
    }
   ],
   "source": [
    "plt.plot(x,y)"
   ]
  },
  {
   "cell_type": "code",
   "execution_count": 39,
   "metadata": {},
   "outputs": [
    {
     "data": {
      "image/png": "[encoded data removed]",
      "text/plain": [
       "<matplotlib.figure.Figure at 0x114cc1950>"
      ]
     },
     "metadata": {},
     "output_type": "display_data"
    }
   ],
   "source": [
    "plt.show()"
   ]
  },
  {
   "cell_type": "code",
   "execution_count": 40,
   "metadata": {
    "collapsed": true
   },
   "outputs": [],
   "source": [
    "out = {\"X\":x,\"Y\":y,\"z\":t,\"cost\":cost}"
   ]
  },
  {
   "cell_type": "code",
   "execution_count": 32,
   "metadata": {
    "collapsed": true
   },
   "outputs": [],
   "source": [
    "with open(\"./func03.pickle\",\"wb\") as f:\n",
    "    pickle.dump(out,f)"
   ]
  },
  {
   "cell_type": "code",
   "execution_count": null,
   "metadata": {
    "collapsed": true
   },
   "outputs": [],
   "source": []
  }
 ],
 "metadata": {
  "kernelspec": {
   "display_name": "Python 2",
   "language": "python",
   "name": "python2"
  },
  "language_info": {
   "codemirror_mode": {
    "name": "ipython",
    "version": 2
   },
   "file_extension": ".py",
   "mimetype": "text/x-python",
   "name": "python",
   "nbconvert_exporter": "python",
   "pygments_lexer": "ipython2",
   "version": "2.7.13"
  }
 },
 "nbformat": 4,
 "nbformat_minor": 2
}
